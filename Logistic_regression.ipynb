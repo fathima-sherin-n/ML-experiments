{
 "cells": [
  {
   "cell_type": "code",
   "execution_count": 71,
   "id": "91007c9e",
   "metadata": {},
   "outputs": [],
   "source": [
    "import numpy as np\n",
    "import pandas as pd\n",
    "import matplotlib.pyplot as plt"
   ]
  },
  {
   "cell_type": "code",
   "execution_count": 72,
   "id": "86b9eeeb",
   "metadata": {},
   "outputs": [],
   "source": [
    "df = pd.read_csv('~/Downloads/Lab1/Logistic Regression/BankNote.csv')"
   ]
  },
  {
   "cell_type": "code",
   "execution_count": 73,
   "id": "eda0ddee",
   "metadata": {},
   "outputs": [
    {
     "data": {
      "text/plain": [
       "(1096, 5)"
      ]
     },
     "execution_count": 73,
     "metadata": {},
     "output_type": "execute_result"
    }
   ],
   "source": [
    "df.shape"
   ]
  },
  {
   "cell_type": "code",
   "execution_count": 74,
   "id": "b6e9ada7",
   "metadata": {},
   "outputs": [
    {
     "data": {
      "text/html": [
       "<div>\n",
       "<style scoped>\n",
       "    .dataframe tbody tr th:only-of-type {\n",
       "        vertical-align: middle;\n",
       "    }\n",
       "\n",
       "    .dataframe tbody tr th {\n",
       "        vertical-align: top;\n",
       "    }\n",
       "\n",
       "    .dataframe thead th {\n",
       "        text-align: right;\n",
       "    }\n",
       "</style>\n",
       "<table border=\"1\" class=\"dataframe\">\n",
       "  <thead>\n",
       "    <tr style=\"text-align: right;\">\n",
       "      <th></th>\n",
       "      <th>VWTI</th>\n",
       "      <th>SWTI</th>\n",
       "      <th>CWTI</th>\n",
       "      <th>EI</th>\n",
       "      <th>Class</th>\n",
       "    </tr>\n",
       "  </thead>\n",
       "  <tbody>\n",
       "    <tr>\n",
       "      <th>0</th>\n",
       "      <td>2.2634</td>\n",
       "      <td>-4.4862</td>\n",
       "      <td>3.6558</td>\n",
       "      <td>-0.612510</td>\n",
       "      <td>0</td>\n",
       "    </tr>\n",
       "    <tr>\n",
       "      <th>1</th>\n",
       "      <td>3.2718</td>\n",
       "      <td>1.7837</td>\n",
       "      <td>2.1161</td>\n",
       "      <td>0.613340</td>\n",
       "      <td>0</td>\n",
       "    </tr>\n",
       "    <tr>\n",
       "      <th>2</th>\n",
       "      <td>-3.9411</td>\n",
       "      <td>-12.8792</td>\n",
       "      <td>13.0597</td>\n",
       "      <td>-3.312500</td>\n",
       "      <td>1</td>\n",
       "    </tr>\n",
       "    <tr>\n",
       "      <th>3</th>\n",
       "      <td>0.5195</td>\n",
       "      <td>-3.2633</td>\n",
       "      <td>3.0895</td>\n",
       "      <td>-0.984900</td>\n",
       "      <td>0</td>\n",
       "    </tr>\n",
       "    <tr>\n",
       "      <th>4</th>\n",
       "      <td>2.5698</td>\n",
       "      <td>-4.4076</td>\n",
       "      <td>5.9856</td>\n",
       "      <td>0.078002</td>\n",
       "      <td>0</td>\n",
       "    </tr>\n",
       "  </tbody>\n",
       "</table>\n",
       "</div>"
      ],
      "text/plain": [
       "     VWTI     SWTI     CWTI        EI  Class\n",
       "0  2.2634  -4.4862   3.6558 -0.612510      0\n",
       "1  3.2718   1.7837   2.1161  0.613340      0\n",
       "2 -3.9411 -12.8792  13.0597 -3.312500      1\n",
       "3  0.5195  -3.2633   3.0895 -0.984900      0\n",
       "4  2.5698  -4.4076   5.9856  0.078002      0"
      ]
     },
     "execution_count": 74,
     "metadata": {},
     "output_type": "execute_result"
    }
   ],
   "source": [
    "df.head()"
   ]
  },
  {
   "cell_type": "code",
   "execution_count": 75,
   "id": "7a912854",
   "metadata": {},
   "outputs": [
    {
     "name": "stdout",
     "output_type": "stream",
     "text": [
      "876\n"
     ]
    }
   ],
   "source": [
    "X_train_count = int(df.shape[0] * 0.8)\n",
    "print(X_train_count)"
   ]
  },
  {
   "cell_type": "code",
   "execution_count": 76,
   "id": "7a06d485",
   "metadata": {},
   "outputs": [
    {
     "data": {
      "text/plain": [
       "220"
      ]
     },
     "execution_count": 76,
     "metadata": {},
     "output_type": "execute_result"
    }
   ],
   "source": [
    "1096 - 876"
   ]
  },
  {
   "cell_type": "code",
   "execution_count": 77,
   "id": "1ba664dc",
   "metadata": {},
   "outputs": [
    {
     "name": "stdout",
     "output_type": "stream",
     "text": [
      "[[  2.2634   -4.4862    3.6558   -0.61251]\n",
      " [  3.2718    1.7837    2.1161    0.61334]\n",
      " [ -3.9411  -12.8792   13.0597   -3.3125 ]\n",
      " ...\n",
      " [ -1.6514   -8.4985    9.1122    1.2379 ]\n",
      " [  3.0333   -2.5928    2.3183    0.303  ]\n",
      " [  1.4276    8.3847   -2.0995   -1.9677 ]]\n",
      "[0 0 1 0 0 1 1 1 0 0 0 1 1 0 0 1 0 1 0 0 1 0 0 0 1 1 0 0 0 0 0 1 1 0 0 0 0\n",
      " 1 0 0 0 1 1 0 1 1 1 1 0 1 1 0 0 1 0 0 0 1 0 1 1 0 0 0 0 1 0 0 1 0 0 0 1 1\n",
      " 0 0 0 1 1 0 0 1 0 0 0 0 0 1 0 0 1 1 0 0 0 1 1 0 0 0 1 0 0 0 1 1 1 1 1 0 0\n",
      " 1 0 0 0 0 1 1 1 0 1 0 1 0 0 0 1 1 0 1 1 1 0 1 0 0 0 1 1 1 1 0 1 1 0 0 0 1\n",
      " 0 1 1 1 0 0 1 0 1 1 1 1 1 0 0 0 1 1 1 0 0 0 1 0 0 1 1 1 0 1 1 1 1 0 0 0 0\n",
      " 1 0 1 1 0 1 0 0 1 1 1 0 1 0 0 1 0 0 1 1 0 0 0 0 0 1 0 0 1 1 0 0 1 0 1 0 1\n",
      " 0 0 0 0 0 1 1 0 0 1 0 0 1 0 0 0 0 0 1 0 0 1 1 0 0 0 0 1 1 0 0 1 0 1 1 0 0\n",
      " 0 1 1 0 1 0 0 1 0 0 0 1 1 0 1 0 0 0 1 0 0 0 0 1 0 1 1 0 0 0 0 0 1 0 0 0 1\n",
      " 0 1 0 1 0 0 0 1 0 1 1 1 1 0 0 1 1 0 0 1 1 0 1 1 0 0 0 0 1 0 0 1 0 1 0 0 1\n",
      " 1 0 0 0 1 0 0 1 0 1 0 1 1 1 0 0 0 1 0 0 0 0 0 0 0 1 0 0 0 0 1 0 1 0 1 0 0\n",
      " 1 0 0 1 0 1 0 0 0 0 1 1 1 1 0 1 0 0 0 1 1 1 0 1 0 0 1 0 1 1 0 0 1 1 1 0 1\n",
      " 1 0 1 0 0 0 1 1 0 0 1 1 1 1 0 0 0 0 1 1 0 1 0 1 1 1 0 0 1 1 0 0 1 1 0 1 1\n",
      " 1 1 0 1 1 0 1 0 0 1 0 1 1 0 0 0 1 0 0 0 0 0 1 1 0 0 1 1 0 0 0 1 0 1 0 1 1\n",
      " 0 0 0 0 0 1 1 1 1 0 0 1 0 1 0 1 1 0 0 0 0 0 1 1 1 1 1 1 1 1 0 1 1 0 1 0 1\n",
      " 1 1 1 0 1 1 1 1 0 0 1 1 1 1 1 0 0 0 0 1 1 0 0 1 0 0 1 0 1 1 1 0 1 0 0 0 1\n",
      " 0 0 1 0 1 0 1 1 0 0 1 0 1 0 0 0 1 0 1 1 1 0 1 0 0 0 1 0 0 0 0 1 1 1 0 0 0\n",
      " 1 0 0 1 0 0 1 0 0 0 0 1 0 0 0 1 0 1 0 0 1 1 1 0 1 0 0 1 0 1 1 0 0 1 1 1 1\n",
      " 0 0 1 1 1 0 1 1 1 1 1 1 0 0 1 0 0 1 0 0 1 1 1 0 0 0 0 0 0 0 0 0 0 0 1 0 0\n",
      " 1 1 0 0 1 1 0 1 0 1 0 0 0 0 0 0 0 0 0 1 1 1 0 1 0 0 1 0 1 1 1 1 1 0 0 0 1\n",
      " 1 0 1 1 1 1 0 0 1 1 1 0 1 1 0 1 1 0 1 1 1 1 1 1 0 0 0 1 0 1 1 0 1 0 0 0 1\n",
      " 0 1 1 1 0 0 0 0 0 0 1 0 1 0 0 1 1 0 0 0 0 0 0 1 1 0 0 0 0 0 0 0 1 1 1 0 1\n",
      " 1 1 1 0 1 0 0 0 0 0 0 0 0 1 1 1 0 1 0 0 0 0 1 0 0 0 0 1 1 1 1 0 0 1 1 1 0\n",
      " 0 0 0 1 0 0 0 1 0 0 1 0 1 1 0 1 1 0 0 0 0 1 1 1 0 1 1 1 1 1 0 1 1 0 0 1 1\n",
      " 1 1 1 1 1 0 1 0 1 0 1 1 1 0 0 0 0 1 0 0 0 0 1 0 0]\n"
     ]
    }
   ],
   "source": [
    "X_train = df.iloc[:X_train_count,:-1].values\n",
    "Y_train = df.iloc[:X_train_count,-1].values\n",
    "print(X_train)\n",
    "print(Y_train)"
   ]
  },
  {
   "cell_type": "code",
   "execution_count": 94,
   "id": "082f5292",
   "metadata": {},
   "outputs": [
    {
     "name": "stdout",
     "output_type": "stream",
     "text": [
      "(220, 4)\n",
      "(220,)\n"
     ]
    }
   ],
   "source": [
    "X_test = df.iloc[X_train_count:,:-1].values\n",
    "Y_test = df.iloc[X_train_count:,-1].values\n",
    "print(X_test.shape)\n",
    "print(Y_test.shape)"
   ]
  },
  {
   "cell_type": "code",
   "execution_count": 95,
   "id": "ef06ce00",
   "metadata": {},
   "outputs": [
    {
     "data": {
      "text/html": [
       "<div>\n",
       "<style scoped>\n",
       "    .dataframe tbody tr th:only-of-type {\n",
       "        vertical-align: middle;\n",
       "    }\n",
       "\n",
       "    .dataframe tbody tr th {\n",
       "        vertical-align: top;\n",
       "    }\n",
       "\n",
       "    .dataframe thead th {\n",
       "        text-align: right;\n",
       "    }\n",
       "</style>\n",
       "<table border=\"1\" class=\"dataframe\">\n",
       "  <thead>\n",
       "    <tr style=\"text-align: right;\">\n",
       "      <th></th>\n",
       "      <th>VWTI</th>\n",
       "      <th>SWTI</th>\n",
       "      <th>CWTI</th>\n",
       "      <th>EI</th>\n",
       "      <th>Class</th>\n",
       "    </tr>\n",
       "  </thead>\n",
       "  <tbody>\n",
       "    <tr>\n",
       "      <th>0</th>\n",
       "      <td>False</td>\n",
       "      <td>False</td>\n",
       "      <td>False</td>\n",
       "      <td>False</td>\n",
       "      <td>False</td>\n",
       "    </tr>\n",
       "    <tr>\n",
       "      <th>1</th>\n",
       "      <td>False</td>\n",
       "      <td>False</td>\n",
       "      <td>False</td>\n",
       "      <td>False</td>\n",
       "      <td>False</td>\n",
       "    </tr>\n",
       "    <tr>\n",
       "      <th>2</th>\n",
       "      <td>False</td>\n",
       "      <td>False</td>\n",
       "      <td>False</td>\n",
       "      <td>False</td>\n",
       "      <td>False</td>\n",
       "    </tr>\n",
       "    <tr>\n",
       "      <th>3</th>\n",
       "      <td>False</td>\n",
       "      <td>False</td>\n",
       "      <td>False</td>\n",
       "      <td>False</td>\n",
       "      <td>False</td>\n",
       "    </tr>\n",
       "    <tr>\n",
       "      <th>4</th>\n",
       "      <td>False</td>\n",
       "      <td>False</td>\n",
       "      <td>False</td>\n",
       "      <td>False</td>\n",
       "      <td>False</td>\n",
       "    </tr>\n",
       "    <tr>\n",
       "      <th>...</th>\n",
       "      <td>...</td>\n",
       "      <td>...</td>\n",
       "      <td>...</td>\n",
       "      <td>...</td>\n",
       "      <td>...</td>\n",
       "    </tr>\n",
       "    <tr>\n",
       "      <th>1091</th>\n",
       "      <td>False</td>\n",
       "      <td>False</td>\n",
       "      <td>False</td>\n",
       "      <td>False</td>\n",
       "      <td>False</td>\n",
       "    </tr>\n",
       "    <tr>\n",
       "      <th>1092</th>\n",
       "      <td>False</td>\n",
       "      <td>False</td>\n",
       "      <td>False</td>\n",
       "      <td>False</td>\n",
       "      <td>False</td>\n",
       "    </tr>\n",
       "    <tr>\n",
       "      <th>1093</th>\n",
       "      <td>False</td>\n",
       "      <td>False</td>\n",
       "      <td>False</td>\n",
       "      <td>False</td>\n",
       "      <td>False</td>\n",
       "    </tr>\n",
       "    <tr>\n",
       "      <th>1094</th>\n",
       "      <td>False</td>\n",
       "      <td>False</td>\n",
       "      <td>False</td>\n",
       "      <td>False</td>\n",
       "      <td>False</td>\n",
       "    </tr>\n",
       "    <tr>\n",
       "      <th>1095</th>\n",
       "      <td>False</td>\n",
       "      <td>False</td>\n",
       "      <td>False</td>\n",
       "      <td>False</td>\n",
       "      <td>False</td>\n",
       "    </tr>\n",
       "  </tbody>\n",
       "</table>\n",
       "<p>1096 rows × 5 columns</p>\n",
       "</div>"
      ],
      "text/plain": [
       "       VWTI   SWTI   CWTI     EI  Class\n",
       "0     False  False  False  False  False\n",
       "1     False  False  False  False  False\n",
       "2     False  False  False  False  False\n",
       "3     False  False  False  False  False\n",
       "4     False  False  False  False  False\n",
       "...     ...    ...    ...    ...    ...\n",
       "1091  False  False  False  False  False\n",
       "1092  False  False  False  False  False\n",
       "1093  False  False  False  False  False\n",
       "1094  False  False  False  False  False\n",
       "1095  False  False  False  False  False\n",
       "\n",
       "[1096 rows x 5 columns]"
      ]
     },
     "execution_count": 95,
     "metadata": {},
     "output_type": "execute_result"
    }
   ],
   "source": [
    "df.isnull()"
   ]
  },
  {
   "cell_type": "code",
   "execution_count": 96,
   "id": "6887ffb2",
   "metadata": {},
   "outputs": [
    {
     "name": "stdout",
     "output_type": "stream",
     "text": [
      "VWTI Mean 0.20512249999999996\n",
      "VWTI Median 0.825445\n",
      "VWTI Min -4.4862\n",
      "VWTI Max 3.6558\n"
     ]
    }
   ],
   "source": [
    "V_score_mean = np.mean(X_train[0])\n",
    "V_score_median = np.median(X_train[0])\n",
    "V_score_min = np.min(X_train[0])\n",
    "V_score_max = np.max(X_train[0])\n",
    "\n",
    "print(\"VWTI Mean\",V_score_mean)\n",
    "print(\"VWTI Median\",V_score_median)\n",
    "print(\"VWTI Min\",V_score_min)\n",
    "print(\"VWTI Max\",V_score_max)"
   ]
  },
  {
   "cell_type": "code",
   "execution_count": 97,
   "id": "6cdfed7f",
   "metadata": {},
   "outputs": [],
   "source": [
    "def sigmoid(x):\n",
    "    return 1/(1+np.exp(-x))"
   ]
  },
  {
   "cell_type": "code",
   "execution_count": 98,
   "id": "3c98973e",
   "metadata": {},
   "outputs": [],
   "source": [
    "def fit(X, Y, learning_rate = 0.01, iterations = 1000):\n",
    "    no_samples, no_features = X.shape\n",
    "    W = np.zeros(no_features)\n",
    "    b = 0\n",
    "    print(\"W\", W, b)\n",
    "    \n",
    "    for _ in range(iterations):\n",
    "#         print(\"X\", X)\n",
    "#         print(\"Y\", Y)\n",
    "        W,b = update_weights(X, Y, W, b, learning_rate, no_samples)\n",
    "    return W, b"
   ]
  },
  {
   "cell_type": "code",
   "execution_count": 99,
   "id": "c6f723a4",
   "metadata": {},
   "outputs": [],
   "source": [
    "def log_pred(X, W, b):\n",
    "    z = X.dot(W) + b\n",
    "    return sigmoid(z)"
   ]
  },
  {
   "cell_type": "code",
   "execution_count": 100,
   "id": "21833867",
   "metadata": {},
   "outputs": [],
   "source": [
    "def update_weights(X, Y, W, b, learning_rate, no_samples):\n",
    "#     print(\"X shape\", X.shape)\n",
    "#     print(\"Y shape\", Y.shape)\n",
    "#     print(\"W shape\", W.shape)\n",
    "    Y_pred = log_pred(X, W, b)\n",
    "#     print(Y_pred)\n",
    "    dW = (1/no_samples) * (np.dot(X.T, Y_pred - Y))\n",
    "    db = (1/no_samples) * (np.sum(Y_pred - Y))\n",
    "    W -= learning_rate * dW\n",
    "    b -= learning_rate * db\n",
    "    return W, b"
   ]
  },
  {
   "cell_type": "code",
   "execution_count": 101,
   "id": "678d1f9b",
   "metadata": {},
   "outputs": [
    {
     "name": "stdout",
     "output_type": "stream",
     "text": [
      "W [0. 0. 0. 0.] 0\n",
      "[-1.16064555 -0.63264685 -0.63672208 -0.28370109] 0.5079029056826253\n"
     ]
    }
   ],
   "source": [
    "W, b = fit(X_train, Y_train, 0.01, 1000)\n",
    "print(W, b)"
   ]
  },
  {
   "cell_type": "code",
   "execution_count": 102,
   "id": "593c5e2a",
   "metadata": {},
   "outputs": [],
   "source": [
    "def pred_class(prob):\n",
    "    return (prob >=0.5).astype(int)"
   ]
  },
  {
   "cell_type": "code",
   "execution_count": 103,
   "id": "d9c31046",
   "metadata": {},
   "outputs": [
    {
     "name": "stdout",
     "output_type": "stream",
     "text": [
      "[6.61589021e-01 2.26072059e-01 7.80356418e-01 9.75881941e-01\n",
      " 1.79746337e-02 9.93571973e-03 9.52810204e-01 9.26673672e-01\n",
      " 9.05518592e-01 2.36410223e-02 1.53192846e-03 1.17658259e-02\n",
      " 5.13305712e-01 8.99913160e-01 2.04467414e-03 9.49507052e-01\n",
      " 3.64366333e-03 2.65192645e-03 4.47993800e-01 1.10997676e-02\n",
      " 5.97190346e-01 9.39526733e-01 9.14351778e-04 2.93370782e-03\n",
      " 1.70818063e-03 8.26604802e-01 3.19930357e-02 3.16462684e-01\n",
      " 3.72059299e-03 9.45265402e-02 3.52301862e-03 2.16415266e-03\n",
      " 1.87957834e-04 9.74387185e-01 9.56386466e-01 9.08864538e-01\n",
      " 4.97302599e-02 4.40994687e-01 4.85987513e-03 1.03066685e-03\n",
      " 4.72590435e-03 1.58803456e-03 1.09560155e-03 9.42695387e-04\n",
      " 9.00008983e-01 1.59215245e-01 7.10544801e-03 9.16593123e-04\n",
      " 7.27907135e-01 4.43149055e-03 7.87306866e-04 7.94134450e-03\n",
      " 8.47863660e-01 5.29759400e-03 7.13347076e-03 5.85870931e-03\n",
      " 3.12011001e-04 7.90044116e-01 9.06652851e-01 9.16878146e-01\n",
      " 9.09217459e-04 5.50641758e-03 2.26047789e-03 9.81354110e-01\n",
      " 3.21568260e-03 7.25831721e-03 4.77246624e-01 2.64466545e-02\n",
      " 2.60904549e-01 2.67929259e-03 1.50104629e-03 2.15544297e-03\n",
      " 6.49254765e-01 7.35541022e-03 9.36421432e-01 9.46048584e-01\n",
      " 8.88546523e-01 2.78018721e-03 1.12273605e-03 1.22668496e-03\n",
      " 7.57812479e-02 3.28266973e-03 9.31107814e-01 7.51776730e-01\n",
      " 6.67762157e-01 5.65661412e-03 9.10085866e-01 9.82952749e-01\n",
      " 8.83458661e-01 5.13101839e-02 8.95508310e-01 7.36325567e-01\n",
      " 9.81614757e-01 6.75825034e-03 9.60205520e-01 9.19544383e-01\n",
      " 6.45475443e-01 3.16462684e-01 7.46177641e-02 1.27672144e-02\n",
      " 8.95341562e-01 1.47510348e-03 2.00681632e-02 3.55141329e-03\n",
      " 3.14268166e-03 4.24680371e-02 3.82631438e-03 5.32545496e-03\n",
      " 3.09708252e-01 8.09609237e-01 7.08455995e-03 1.05787057e-03\n",
      " 9.53066262e-01 4.11673901e-02 5.05353157e-03 9.63645775e-01\n",
      " 3.69638413e-01 8.09910021e-03 8.20144141e-01 8.62129871e-03\n",
      " 1.76423261e-02 2.59121955e-03 1.94874089e-02 9.13579535e-01\n",
      " 7.16914077e-01 7.73325228e-02 5.42936469e-01 8.00375254e-03\n",
      " 3.85116963e-03 9.83764246e-01 8.36882604e-01 8.80891158e-03\n",
      " 7.40475347e-01 7.18754119e-03 2.48989006e-01 9.59574407e-01\n",
      " 5.63547927e-01 9.44045905e-01 6.78871044e-05 9.80321501e-01\n",
      " 9.32146693e-01 2.09107708e-03 4.38493341e-03 2.14802052e-03\n",
      " 3.41973094e-03 9.43375331e-01 1.38365560e-02 1.58818771e-02\n",
      " 8.76275426e-01 2.37247476e-02 8.62582342e-01 8.29978517e-01\n",
      " 1.10800628e-01 9.44964105e-01 1.84473671e-02 6.05447188e-02\n",
      " 1.32534683e-02 9.48762916e-01 9.33074019e-01 1.64316352e-03\n",
      " 9.10235162e-01 1.05230018e-02 2.95873247e-03 2.32822379e-03\n",
      " 7.74367392e-01 3.48383332e-03 9.30878150e-01 9.68251443e-01\n",
      " 8.70841220e-01 9.56382905e-01 1.44641371e-01 7.93208969e-03\n",
      " 3.43776919e-03 6.50717990e-04 9.11738651e-01 8.14921604e-01\n",
      " 3.77622261e-01 8.96507037e-01 3.03008847e-04 6.41094155e-03\n",
      " 6.20972075e-01 3.91828013e-03 7.53749258e-01 2.25675169e-02\n",
      " 9.15330335e-01 2.58513182e-03 9.69339093e-01 8.21750643e-02\n",
      " 9.50785500e-01 1.56260665e-03 1.87887380e-04 1.39532212e-03\n",
      " 2.11197513e-03 7.92436741e-01 9.64430143e-01 9.16674130e-01\n",
      " 8.61130625e-01 2.40238540e-02 8.95215510e-03 3.22358561e-01\n",
      " 9.08493217e-01 7.61662944e-01 3.54536472e-03 2.81251199e-03\n",
      " 5.34523988e-03 1.42909078e-03 8.37763844e-01 9.13130011e-01\n",
      " 9.68652027e-01 9.85453757e-04 8.32172571e-05 6.77127304e-04\n",
      " 1.58307072e-03 2.05637186e-03 1.99642240e-03 1.18071480e-02\n",
      " 1.74165971e-02 1.20284126e-03 1.20779297e-03 1.44784906e-01]\n"
     ]
    }
   ],
   "source": [
    "Y_pred_prob = log_pred(X_test, W, b)\n",
    "print(Y_pred_prob)"
   ]
  },
  {
   "cell_type": "code",
   "execution_count": 104,
   "id": "b0a736cd",
   "metadata": {},
   "outputs": [
    {
     "name": "stdout",
     "output_type": "stream",
     "text": [
      "[1 0 1 1 0 0 1 1 1 0 0 0 1 1 0 1 0 0 0 0 1 1 0 0 0 1 0 0 0 0 0 0 0 1 1 1 0\n",
      " 0 0 0 0 0 0 0 1 0 0 0 1 0 0 0 1 0 0 0 0 1 1 1 0 0 0 1 0 0 0 0 0 0 0 0 1 0\n",
      " 1 1 1 0 0 0 0 0 1 1 1 0 1 1 1 0 1 1 1 0 1 1 1 0 0 0 1 0 0 0 0 0 0 0 0 1 0\n",
      " 0 1 0 0 1 0 0 1 0 0 0 0 1 1 0 1 0 0 1 1 0 1 0 0 1 1 1 0 1 1 0 0 0 0 1 0 0\n",
      " 1 0 1 1 0 1 0 0 0 1 1 0 1 0 0 0 1 0 1 1 1 1 0 0 0 0 1 1 0 1 0 0 1 0 1 0 1\n",
      " 0 1 0 1 0 0 0 0 1 1 1 1 0 0 0 1 1 0 0 0 0 1 1 1 0 0 0 0 0 0 0 0 0 0 0]\n"
     ]
    }
   ],
   "source": [
    "print(pred_class(Y_pred_prob))"
   ]
  },
  {
   "cell_type": "code",
   "execution_count": 105,
   "id": "a31c11e8",
   "metadata": {},
   "outputs": [
    {
     "data": {
      "text/plain": [
       "(220,)"
      ]
     },
     "execution_count": 105,
     "metadata": {},
     "output_type": "execute_result"
    }
   ],
   "source": [
    "Y_pred_prob.shape"
   ]
  },
  {
   "cell_type": "code",
   "execution_count": 106,
   "id": "fdc45b8a",
   "metadata": {},
   "outputs": [
    {
     "name": "stdout",
     "output_type": "stream",
     "text": [
      "97.27272727272728\n"
     ]
    }
   ],
   "source": [
    "accuracy = np.mean( pred_class(Y_pred_prob) == Y_test)\n",
    "print(accuracy*100)"
   ]
  },
  {
   "cell_type": "code",
   "execution_count": null,
   "id": "5c875ea3",
   "metadata": {},
   "outputs": [],
   "source": []
  },
  {
   "cell_type": "code",
   "execution_count": null,
   "id": "a2f7ebc7",
   "metadata": {},
   "outputs": [],
   "source": []
  }
 ],
 "metadata": {
  "kernelspec": {
   "display_name": "Python 3 (ipykernel)",
   "language": "python",
   "name": "python3"
  },
  "language_info": {
   "codemirror_mode": {
    "name": "ipython",
    "version": 3
   },
   "file_extension": ".py",
   "mimetype": "text/x-python",
   "name": "python",
   "nbconvert_exporter": "python",
   "pygments_lexer": "ipython3",
   "version": "3.11.5"
  }
 },
 "nbformat": 4,
 "nbformat_minor": 5
}
