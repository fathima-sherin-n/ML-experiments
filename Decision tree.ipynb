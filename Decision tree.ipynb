{
 "cells": [
  {
   "cell_type": "code",
   "execution_count": 251,
   "id": "994a757d",
   "metadata": {},
   "outputs": [],
   "source": [
    "import pandas as pd\n",
    "import numpy as np\n",
    "from sklearn.model_selection import train_test_split\n",
    "from sklearn.metrics import accuracy_score"
   ]
  },
  {
   "cell_type": "code",
   "execution_count": 252,
   "id": "42a7d523",
   "metadata": {},
   "outputs": [],
   "source": [
    "data = pd.read_csv('Iris.csv')"
   ]
  },
  {
   "cell_type": "code",
   "execution_count": 253,
   "id": "b1e74d9f",
   "metadata": {},
   "outputs": [
    {
     "data": {
      "text/html": [
       "<div>\n",
       "<style scoped>\n",
       "    .dataframe tbody tr th:only-of-type {\n",
       "        vertical-align: middle;\n",
       "    }\n",
       "\n",
       "    .dataframe tbody tr th {\n",
       "        vertical-align: top;\n",
       "    }\n",
       "\n",
       "    .dataframe thead th {\n",
       "        text-align: right;\n",
       "    }\n",
       "</style>\n",
       "<table border=\"1\" class=\"dataframe\">\n",
       "  <thead>\n",
       "    <tr style=\"text-align: right;\">\n",
       "      <th></th>\n",
       "      <th>Id</th>\n",
       "      <th>SepalLengthCm</th>\n",
       "      <th>SepalWidthCm</th>\n",
       "      <th>PetalLengthCm</th>\n",
       "      <th>PetalWidthCm</th>\n",
       "      <th>Species</th>\n",
       "    </tr>\n",
       "  </thead>\n",
       "  <tbody>\n",
       "    <tr>\n",
       "      <th>0</th>\n",
       "      <td>1</td>\n",
       "      <td>5.1</td>\n",
       "      <td>3.5</td>\n",
       "      <td>1.4</td>\n",
       "      <td>0.2</td>\n",
       "      <td>Iris-setosa</td>\n",
       "    </tr>\n",
       "    <tr>\n",
       "      <th>1</th>\n",
       "      <td>2</td>\n",
       "      <td>4.9</td>\n",
       "      <td>3.0</td>\n",
       "      <td>1.4</td>\n",
       "      <td>0.2</td>\n",
       "      <td>Iris-setosa</td>\n",
       "    </tr>\n",
       "    <tr>\n",
       "      <th>2</th>\n",
       "      <td>3</td>\n",
       "      <td>4.7</td>\n",
       "      <td>3.2</td>\n",
       "      <td>1.3</td>\n",
       "      <td>0.2</td>\n",
       "      <td>Iris-setosa</td>\n",
       "    </tr>\n",
       "    <tr>\n",
       "      <th>3</th>\n",
       "      <td>4</td>\n",
       "      <td>4.6</td>\n",
       "      <td>3.1</td>\n",
       "      <td>1.5</td>\n",
       "      <td>0.2</td>\n",
       "      <td>Iris-setosa</td>\n",
       "    </tr>\n",
       "    <tr>\n",
       "      <th>4</th>\n",
       "      <td>5</td>\n",
       "      <td>5.0</td>\n",
       "      <td>3.6</td>\n",
       "      <td>1.4</td>\n",
       "      <td>0.2</td>\n",
       "      <td>Iris-setosa</td>\n",
       "    </tr>\n",
       "  </tbody>\n",
       "</table>\n",
       "</div>"
      ],
      "text/plain": [
       "   Id  SepalLengthCm  SepalWidthCm  PetalLengthCm  PetalWidthCm      Species\n",
       "0   1            5.1           3.5            1.4           0.2  Iris-setosa\n",
       "1   2            4.9           3.0            1.4           0.2  Iris-setosa\n",
       "2   3            4.7           3.2            1.3           0.2  Iris-setosa\n",
       "3   4            4.6           3.1            1.5           0.2  Iris-setosa\n",
       "4   5            5.0           3.6            1.4           0.2  Iris-setosa"
      ]
     },
     "execution_count": 253,
     "metadata": {},
     "output_type": "execute_result"
    }
   ],
   "source": [
    "data.head()"
   ]
  },
  {
   "cell_type": "code",
   "execution_count": 254,
   "id": "0182829d",
   "metadata": {},
   "outputs": [
    {
     "data": {
      "text/plain": [
       "Id               0\n",
       "SepalLengthCm    0\n",
       "SepalWidthCm     0\n",
       "PetalLengthCm    0\n",
       "PetalWidthCm     0\n",
       "Species          0\n",
       "dtype: int64"
      ]
     },
     "execution_count": 254,
     "metadata": {},
     "output_type": "execute_result"
    }
   ],
   "source": [
    "data.isnull().sum()"
   ]
  },
  {
   "cell_type": "code",
   "execution_count": 270,
   "id": "1c39fccf",
   "metadata": {},
   "outputs": [
    {
     "name": "stdout",
     "output_type": "stream",
     "text": [
      "0      False\n",
      "1      False\n",
      "2      False\n",
      "3      False\n",
      "4      False\n",
      "       ...  \n",
      "145    False\n",
      "146    False\n",
      "147    False\n",
      "148    False\n",
      "149    False\n",
      "Name: SepalLengthCm, Length: 150, dtype: bool\n"
     ]
    }
   ],
   "source": [
    "print(data['SepalLengthCm'].isnull())"
   ]
  },
  {
   "cell_type": "code",
   "execution_count": 285,
   "id": "5ad75010",
   "metadata": {},
   "outputs": [
    {
     "name": "stdout",
     "output_type": "stream",
     "text": [
      "no null\n"
     ]
    }
   ],
   "source": [
    "if data['SepalLengthCm'].isnull().sum():\n",
    "    print(\"null value\")\n",
    "    index = data['SepalLengthCm'].isnull() == True\n",
    "    data['SepalLengthCm'][index] = np.mean(data['SepalLengthCm'])\n",
    "else:\n",
    "    print(\"no null\")"
   ]
  },
  {
   "cell_type": "code",
   "execution_count": 255,
   "id": "83432c4d",
   "metadata": {},
   "outputs": [
    {
     "name": "stdout",
     "output_type": "stream",
     "text": [
      "0         Iris-setosa\n",
      "1         Iris-setosa\n",
      "2         Iris-setosa\n",
      "3         Iris-setosa\n",
      "4         Iris-setosa\n",
      "            ...      \n",
      "145    Iris-virginica\n",
      "146    Iris-virginica\n",
      "147    Iris-virginica\n",
      "148    Iris-virginica\n",
      "149    Iris-virginica\n",
      "Name: Species, Length: 150, dtype: object\n"
     ]
    }
   ],
   "source": [
    "print(data['Species'])"
   ]
  },
  {
   "cell_type": "code",
   "execution_count": 256,
   "id": "3f9a7b0e",
   "metadata": {},
   "outputs": [],
   "source": [
    "X = data[['SepalLengthCm', 'SepalWidthCm', 'PetalLengthCm', 'PetalWidthCm']].values\n",
    "y = data['Species'].values"
   ]
  },
  {
   "cell_type": "code",
   "execution_count": 257,
   "id": "305e04e7",
   "metadata": {},
   "outputs": [
    {
     "name": "stdout",
     "output_type": "stream",
     "text": [
      "0         Iris-setosa\n",
      "1         Iris-setosa\n",
      "2         Iris-setosa\n",
      "3         Iris-setosa\n",
      "4         Iris-setosa\n",
      "            ...      \n",
      "145    Iris-virginica\n",
      "146    Iris-virginica\n",
      "147    Iris-virginica\n",
      "148    Iris-virginica\n",
      "149    Iris-virginica\n",
      "Name: Species, Length: 150, dtype: object\n"
     ]
    }
   ],
   "source": [
    "print(data['Species'])"
   ]
  },
  {
   "cell_type": "code",
   "execution_count": 258,
   "id": "cc7cc19d",
   "metadata": {},
   "outputs": [],
   "source": [
    "data['Species'] = data['Species'].map({\n",
    "    'Iris-setosa': 0,\n",
    "    'Iris-versicolor': 1,\n",
    "    'Iris-virginica': 2\n",
    "})"
   ]
  },
  {
   "cell_type": "code",
   "execution_count": 259,
   "id": "2e5b4ec7",
   "metadata": {},
   "outputs": [
    {
     "name": "stdout",
     "output_type": "stream",
     "text": [
      "0      0\n",
      "1      0\n",
      "2      0\n",
      "3      0\n",
      "4      0\n",
      "      ..\n",
      "145    2\n",
      "146    2\n",
      "147    2\n",
      "148    2\n",
      "149    2\n",
      "Name: Species, Length: 150, dtype: int64\n"
     ]
    }
   ],
   "source": [
    "print(data['Species'])"
   ]
  },
  {
   "cell_type": "code",
   "execution_count": 29,
   "id": "0f97d068",
   "metadata": {},
   "outputs": [
    {
     "name": "stdout",
     "output_type": "stream",
     "text": [
      "(150, 4)\n",
      "(150,)\n"
     ]
    }
   ],
   "source": [
    "print(X.shape)\n",
    "print(y.shape)"
   ]
  },
  {
   "cell_type": "code",
   "execution_count": 31,
   "id": "eb73f626",
   "metadata": {},
   "outputs": [],
   "source": [
    "X_train, X_test, y_train, y_test = train_test_split(X, y, test_size = 0.2, random_state = 42)"
   ]
  },
  {
   "cell_type": "code",
   "execution_count": 35,
   "id": "071a728d",
   "metadata": {},
   "outputs": [
    {
     "name": "stdout",
     "output_type": "stream",
     "text": [
      "120\n",
      "30\n"
     ]
    }
   ],
   "source": [
    "print(X_train.shape[0])\n",
    "print(X_test.shape[0])"
   ]
  },
  {
   "cell_type": "code",
   "execution_count": 47,
   "id": "4fe3349d",
   "metadata": {},
   "outputs": [],
   "source": [
    "def build_tree(X, y, max_depth = 5, depth = 0):\n",
    "    if len(np.unique(y)) == 1:\n",
    "        return {'type': 'leaf', 'class': y[0]}\n",
    "    if max_depth is not None and depth >= max_depth:\n",
    "        return {'type': 'leaf', 'class': np.bincount(y).argmax()}\n",
    "    if len(y) == 0:\n",
    "        return None\n",
    "    \n",
    "    best_feature, best_threshold = find_best_split(X, y)\n",
    "    \n",
    "    if best_feature is None:\n",
    "        return {'type': 'leaf', 'class': np.bincount(y).argmax()}\n",
    "    \n",
    "    left_indices = X[:, best_feature] <= best_threshold\n",
    "    right_indices = X[:, best_feature] > best_threshold\n",
    "    \n",
    "    left = build_tree(X[left_indices], y[left_indices], max_depth, depth+1)\n",
    "    right = build_tree(X[right_indices], y[right_indices], max_depth, depth+1)\n",
    "    \n",
    "    return {\n",
    "        'type': 'node',\n",
    "        'feature': best_feature,\n",
    "        'threshold': best_threshold,\n",
    "        'left': left,\n",
    "        'right': right\n",
    "    }"
   ]
  },
  {
   "cell_type": "code",
   "execution_count": 48,
   "id": "2b7da1e3",
   "metadata": {},
   "outputs": [],
   "source": [
    "def find_best_split(X, y):\n",
    "    best_gain = -1\n",
    "    best_feature, best_threshold = None, None\n",
    "    \n",
    "    for feature in range(X.shape[1]):\n",
    "        thresholds = np.unique(X[:, feature])\n",
    "        for threshold in thresholds:\n",
    "            \n",
    "            left_indices = X[:, feature] <= threshold\n",
    "            right_indices = X[:, feature] > threshold\n",
    "            \n",
    "            if len(y[left_indices]) == 0 or len(y[right_indices]) == 0:\n",
    "                continue\n",
    "                \n",
    "            gain = information_gain(y, y[left_indices], y[right_indices])\n",
    "            \n",
    "            if gain>best_gain:\n",
    "                best_gain = gain\n",
    "                best_feature = feature\n",
    "                best_threshold = threshold\n",
    "                \n",
    "    return best_feature, best_threshold"
   ]
  },
  {
   "cell_type": "code",
   "execution_count": 49,
   "id": "cc89364a",
   "metadata": {},
   "outputs": [],
   "source": [
    "def information_gain(y, left, right):\n",
    "    p_left = len(left)/len(y)\n",
    "    p_right = 1 - p_left\n",
    "    return gini(y) - (p_left * gini(left) + p_right * gini(right))"
   ]
  },
  {
   "cell_type": "code",
   "execution_count": 50,
   "id": "512ca9e6",
   "metadata": {},
   "outputs": [],
   "source": [
    "def gini(y):\n",
    "    proportions = np.bincount(y)/len(y)\n",
    "    return 1 - np.sum(proportions **2)"
   ]
  },
  {
   "cell_type": "code",
   "execution_count": 182,
   "id": "6e91516c",
   "metadata": {},
   "outputs": [],
   "source": [
    "def predict_sample(sample, tree):\n",
    "#     print(tree)\n",
    "#     print(sample)\n",
    "    \n",
    "    if tree['type'] == 'leaf':\n",
    "        return tree['class']\n",
    "    if sample[tree['feature']] <= tree['threshold']:\n",
    "        return predict_sample(sample, tree['left'])\n",
    "    else:\n",
    "        return predict_sample(sample, tree['right'])"
   ]
  },
  {
   "cell_type": "code",
   "execution_count": 230,
   "id": "74dc3dec",
   "metadata": {},
   "outputs": [],
   "source": [
    "def predict(X, tree):\n",
    "    return predict_sample(X, tree)"
   ]
  },
  {
   "cell_type": "code",
   "execution_count": 231,
   "id": "3f681f72",
   "metadata": {},
   "outputs": [],
   "source": [
    "def print_tree(tree, depth = 0):\n",
    "    if tree['type'] == 'leaf':\n",
    "        print(f\"{'  ' * depth} Leaf Predict {tree['class']}\")\n",
    "    else:\n",
    "        print(f\"{'  ' * depth} Node Feature[{tree['feature']}] <= {tree['threshold']}\")\n",
    "        print_tree(tree['left'], depth+1)\n",
    "        print_tree(tree['right'], depth+1)"
   ]
  },
  {
   "cell_type": "code",
   "execution_count": 232,
   "id": "e35deeab",
   "metadata": {},
   "outputs": [],
   "source": [
    "tree = build_tree(X_train, y_train, max_depth = 5)"
   ]
  },
  {
   "cell_type": "code",
   "execution_count": 233,
   "id": "a1fa1182",
   "metadata": {},
   "outputs": [
    {
     "name": "stdout",
     "output_type": "stream",
     "text": [
      " Node Feature[2] <= 1.9\n",
      "   Leaf Predict 0\n",
      "   Node Feature[2] <= 4.7\n",
      "     Node Feature[3] <= 1.6\n",
      "       Leaf Predict 1\n",
      "       Leaf Predict 2\n",
      "     Node Feature[3] <= 1.7\n",
      "       Node Feature[2] <= 4.9\n",
      "         Leaf Predict 1\n",
      "         Node Feature[3] <= 1.5\n",
      "           Leaf Predict 2\n",
      "           Leaf Predict 1\n",
      "       Node Feature[2] <= 4.8\n",
      "         Node Feature[0] <= 5.9\n",
      "           Leaf Predict 1\n",
      "           Leaf Predict 2\n",
      "         Leaf Predict 2\n"
     ]
    }
   ],
   "source": [
    "print_tree(tree)"
   ]
  },
  {
   "cell_type": "code",
   "execution_count": null,
   "id": "9bedb2c6",
   "metadata": {},
   "outputs": [],
   "source": []
  },
  {
   "cell_type": "code",
   "execution_count": 266,
   "id": "4cacb0a6",
   "metadata": {},
   "outputs": [],
   "source": [
    "y_pred = []\n",
    "for sample in X_test:\n",
    "    y_pred += [predict(sample, tree)]"
   ]
  },
  {
   "cell_type": "code",
   "execution_count": 267,
   "id": "0276a7a1",
   "metadata": {},
   "outputs": [
    {
     "name": "stdout",
     "output_type": "stream",
     "text": [
      "[1 0 2 1 1 0 1 2 1 1 2 0 0 0 0 1 2 1 1 2 0 2 0 2 2 2 2 2 0 0]\n"
     ]
    }
   ],
   "source": [
    "print(y_test)"
   ]
  },
  {
   "cell_type": "code",
   "execution_count": 268,
   "id": "b2f203a4",
   "metadata": {},
   "outputs": [
    {
     "name": "stdout",
     "output_type": "stream",
     "text": [
      "[1, 0, 2, 1, 1, 0, 1, 2, 1, 1, 2, 0, 0, 0, 0, 1, 2, 1, 1, 2, 0, 2, 0, 2, 2, 2, 2, 2, 0, 0]\n"
     ]
    }
   ],
   "source": [
    "print(y_pred)"
   ]
  },
  {
   "cell_type": "code",
   "execution_count": null,
   "id": "5d7bc861",
   "metadata": {},
   "outputs": [],
   "source": []
  },
  {
   "cell_type": "code",
   "execution_count": 265,
   "id": "77abc3ac",
   "metadata": {},
   "outputs": [
    {
     "name": "stdout",
     "output_type": "stream",
     "text": [
      "100.0\n"
     ]
    }
   ],
   "source": [
    "print(accuracy_score(y_pred, y_test) * 100)"
   ]
  },
  {
   "cell_type": "code",
   "execution_count": 263,
   "id": "03e77515",
   "metadata": {},
   "outputs": [
    {
     "name": "stdout",
     "output_type": "stream",
     "text": [
      "0.0\n"
     ]
    }
   ],
   "source": []
  },
  {
   "cell_type": "code",
   "execution_count": null,
   "id": "a827b026",
   "metadata": {},
   "outputs": [],
   "source": []
  }
 ],
 "metadata": {
  "kernelspec": {
   "display_name": "Python 3 (ipykernel)",
   "language": "python",
   "name": "python3"
  },
  "language_info": {
   "codemirror_mode": {
    "name": "ipython",
    "version": 3
   },
   "file_extension": ".py",
   "mimetype": "text/x-python",
   "name": "python",
   "nbconvert_exporter": "python",
   "pygments_lexer": "ipython3",
   "version": "3.11.5"
  }
 },
 "nbformat": 4,
 "nbformat_minor": 5
}
